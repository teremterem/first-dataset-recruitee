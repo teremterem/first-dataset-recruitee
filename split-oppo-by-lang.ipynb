{
 "cells": [
  {
   "cell_type": "code",
   "execution_count": 3,
   "metadata": {
    "collapsed": true
   },
   "outputs": [
    {
     "name": "stdout",
     "output_type": "stream",
     "text": [
      "terem 228\n",
      "unknown 2\n",
      "everything 230\n",
      "\n",
      "{'data': 'Hi Oleksandr   I have taken a look at your profile and it looks a '\n",
      "         'good match for a couple of Python developer roles my client is '\n",
      "         'recruiting for at the moment. Please see the job specification '\n",
      "         'below.   Job Roles:   1 x Python Developer €70k-100k 1 x Python Tech '\n",
      "         'Lead Developer €90k-€130k++  Location – Fully remote   Benefits – '\n",
      "         'Fully remote, flexible hours, greenfield project, lots of autonomy, '\n",
      "         'cutting edge technologies. Career growth.   The Company My client '\n",
      "         'scales Python to the cloud for data professionals. They work with '\n",
      "         'the leading Python-native solution for distributed computing, They '\n",
      "         'have hosted more than 100M tasks for data professionals, scientists, '\n",
      "         'and researchers around the globe to solve challenges in business, '\n",
      "         'research, and science. My client is a remote-first company with the '\n",
      "         'best and brightest developers working from around the globe. The '\n",
      "         'client is on a mission to create a platform that gives Data '\n",
      "         'Scientists the power of the cloud and machine learning, freeing them '\n",
      "         \"from today's limitations so they can solve important problems.  This \"\n",
      "         'role will help to design, build, and deploy web-facing applications '\n",
      "         'that manage parallel Python deployments in a cloud setting. This '\n",
      "         'role will help shape their product roadmap with our founding team '\n",
      "         'and make decisions that change the direction of a young well-funded '\n",
      "         'company.  The company currently have 31 employees with 12 developers '\n",
      "         'making up the tech team. Due to large amounts of funding and lots of '\n",
      "         'new clients they are looking to grow the team and expect to have '\n",
      "         'doubled in size in the next year.   Essential - Python   Desired '\n",
      "         '(Not essential) -Django -Unit tests, code review, version control, '\n",
      "         'production monitoring amogst other best practices -Pandas, Numpy, '\n",
      "         'Scikit -Javascript,CSS,HTML  If you would like to know more about '\n",
      "         'this opportunity and others Python positions, hit reply and I will '\n",
      "         'go over it in more detail with you  William Smith  Python '\n",
      "         'Recruitment Consultant at Core Tech Recruitment '\n",
      "         'will.s@coretechrecruitment.com   00447932025955',\n",
      " 'id': 312,\n",
      " 'label': ['en'],\n",
      " 'prelim_label': []}\n",
      "\n",
      "{'data': 'https://djinni.co/jobs/256941-python-engineer/',\n",
      " 'id': 2542,\n",
      " 'label': []}\n"
     ]
    }
   ],
   "source": [
    "import json\n",
    "from pprint import pprint\n",
    "\n",
    "terem = json.load(open('data/oppo_only/terem.json', encoding='utf-8'))\n",
    "unknown = json.load(open('data/oppo_only/unknown.json', encoding='utf-8'))\n",
    "everything = terem + unknown\n",
    "\n",
    "print('terem', len(terem))\n",
    "print('unknown', len(unknown))\n",
    "print('everything', len(everything))\n",
    "print()\n",
    "pprint(terem[0])\n",
    "print()\n",
    "pprint(unknown[0])"
   ]
  },
  {
   "cell_type": "code",
   "execution_count": 4,
   "outputs": [
    {
     "name": "stdout",
     "output_type": "stream",
     "text": [
      "2 ()\n",
      "54 ('en',)\n",
      "2 ('invalid',)\n",
      "84 ('ru',)\n",
      "4 ('ru', 'en')\n",
      "82 ('uk',)\n",
      "2 ('uk', 'en')\n"
     ]
    }
   ],
   "source": [
    "dict_of_lists = {}\n",
    "\n",
    "for sample in everything:\n",
    "    dict_of_lists.setdefault(tuple(frozenset(sample['label'])), []).append(sample)\n",
    "\n",
    "for k, vl in sorted(dict_of_lists.items(), key=lambda i: i[0]):\n",
    "    print(len(vl), k)\n",
    "    # for sample in vl:\n",
    "    #     sample['prelim_label'] = sample['label']\n",
    "    #     sample['label'] = []\n",
    "    # json.dump(vl, open(\n",
    "    #     f\"data/by_prelim_labels/{'__'.join(['-'.join(words.lower().split()) for words in k])}___{len(vl)}_.json\", 'w',\n",
    "    #     encoding='utf-8',\n",
    "    # ), ensure_ascii=False)"
   ],
   "metadata": {
    "collapsed": false,
    "pycharm": {
     "name": "#%%\n"
    }
   }
  },
  {
   "cell_type": "code",
   "execution_count": 5,
   "outputs": [],
   "source": [
    "langs = {\n",
    "    'en': [],\n",
    "    'uk': [],\n",
    "    'ru': [],\n",
    "    'mixedlang': [],\n",
    "}\n",
    "\n",
    "for k, vl in dict_of_lists.items():\n",
    "    if 'invalid' in k or len(k) != 1:\n",
    "        lang_key = 'mixedlang'\n",
    "    else:\n",
    "        lang_key = k[0]\n",
    "    langs[lang_key].extend(vl)\n",
    "\n",
    "for k, vl in langs.items():\n",
    "    json.dump(vl, open(\n",
    "        f\"data/oppo_only/lang_split/recruitee-{k}___{len(vl)}_.json\", 'w',\n",
    "        encoding='utf-8',\n",
    "    ), ensure_ascii=False)"
   ],
   "metadata": {
    "collapsed": false,
    "pycharm": {
     "name": "#%%\n"
    }
   }
  }
 ],
 "metadata": {
  "kernelspec": {
   "display_name": "Python 3",
   "language": "python",
   "name": "python3"
  },
  "language_info": {
   "codemirror_mode": {
    "name": "ipython",
    "version": 2
   },
   "file_extension": ".py",
   "mimetype": "text/x-python",
   "name": "python",
   "nbconvert_exporter": "python",
   "pygments_lexer": "ipython2",
   "version": "2.7.6"
  }
 },
 "nbformat": 4,
 "nbformat_minor": 0
}