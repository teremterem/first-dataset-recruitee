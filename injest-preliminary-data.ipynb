{
 "cells": [
  {
   "cell_type": "code",
   "execution_count": 61,
   "metadata": {
    "collapsed": true
   },
   "outputs": [
    {
     "name": "stdout",
     "output_type": "stream",
     "text": [
      "terem 1246\n",
      "unknown 22\n",
      "everything 1268\n",
      "\n",
      "{'CONVERSATION ID': '2-ZjcwMTAyMWYtNTYwZC00MWQ4LTlkN2ItMDM3ZGM1Y2Q3NTljXzAxMw==',\n",
      " 'CONVERSATION TITLE': 'Вакансия',\n",
      " 'DATE': '2021-09-14 13:53:16 UTC',\n",
      " 'FROM': 'Iryna Leonenko',\n",
      " 'SENDER PROFILE URL': 'https://www.linkedin.com/in/iryna-leonenko-422456169',\n",
      " 'SUBJECT': '����������������',\n",
      " 'TO': 'LinkedIn Member',\n",
      " 'data': 'Здравствуйте! Я представляю компанию GlobalLogic. На данный момент '\n",
      "         'находимся в поиске Senior/Lead Python Developer ( или TypeScript). '\n",
      "         'Хотела бы вам показать обе вакансии на выбор. Возможно какая-то '\n",
      "         'вакансия Вас заинтересует =)  Проект связан с быстрорастущей '\n",
      "         'розничной компанией по продаже одежды. Стек: AWS, AWS Aurora, AWS '\n",
      "         'Lambda, AWS SQS, DynamoDB`, TypeScript Ссылка на Senior '\n",
      "         'TypeScript/Python Engineer вакансию: '\n",
      "         'https://www.globallogic.com/ua/careers/senior-typescript-python-engineer-irc129211/ '\n",
      "         'Ссылка на Dev Lead вакансию:  '\n",
      "         'https://www.globallogic.com/ua/careers/dev-lead-irc129216/ Вакансии '\n",
      "         'предусматривают полный Remote, возможен офис.   Открыты ли вы к '\n",
      "         'новым предложениям?  И подскажите, пожалуйста, какая вакансия вас '\n",
      "         'интересует больше?  Iryna Leonenko',\n",
      " 'id': 163,\n",
      " 'label': ['Not NLP']}\n",
      "\n",
      "{'data': 'Добрый день. Меня зовут Татьяна, я из Newxel. Пишу Вам, т.к. ищу '\n",
      "         'Backend Developer. Datagen - computer vision проект, использует '\n",
      "         'AI,ML технологии для сбора synthetic data. Тех стек: '\n",
      "         'Python,Docker,SQL. Вакансия: '\n",
      "         'https://newxel.com/jobs/senior-backend-python-developer/ Интересно '\n",
      "         'ли Вам? ',\n",
      " 'id': 32,\n",
      " 'label': []}\n"
     ]
    }
   ],
   "source": [
    "import json\n",
    "from pprint import pprint\n",
    "\n",
    "terem = json.load(open('data/446cc7d2-a1c6-4eae-b230-dbd287aa2931/terem.json', encoding='utf-8'))\n",
    "unknown = json.load(open('data/446cc7d2-a1c6-4eae-b230-dbd287aa2931/unknown.json', encoding='utf-8'))\n",
    "everything = terem + unknown\n",
    "\n",
    "print('terem', len(terem))\n",
    "print('unknown', len(unknown))\n",
    "print('everything', len(everything))\n",
    "print()\n",
    "pprint(terem[0])\n",
    "print()\n",
    "pprint(unknown[0])"
   ]
  },
  {
   "cell_type": "code",
   "execution_count": 62,
   "outputs": [
    {
     "name": "stdout",
     "output_type": "stream",
     "text": [
      "22 ()\n",
      "1 ('Dirty example', 'Not Python', 'No job desc', 'Not NLP')\n",
      "12 ('Dirty example', 'Not an opportunity intro')\n",
      "6 ('NLP',)\n",
      "3 ('NLP', 'No job desc')\n",
      "1 ('NLP', 'Not Python')\n",
      "47 ('No job desc',)\n",
      "65 ('No job desc', 'Not NLP')\n",
      "71 ('Not NLP',)\n",
      "2 ('Not Python', 'No job desc')\n",
      "9 ('Not Python', 'No job desc', 'Not NLP')\n",
      "4 ('Not Python', 'Not NLP')\n",
      "951 ('Not an opportunity intro',)\n",
      "3 ('Part of opportunity intro',)\n",
      "1 ('Part of opportunity intro', 'NLP')\n",
      "58 ('Part of opportunity intro', 'No job desc')\n",
      "3 ('Part of opportunity intro', 'No job desc', 'NLP')\n",
      "3 ('Part of opportunity intro', 'No job desc', 'Not NLP')\n",
      "5 ('Part of opportunity intro', 'Not NLP')\n",
      "1 ('Part of opportunity intro', 'Not an opportunity intro')\n"
     ]
    }
   ],
   "source": [
    "dict_of_lists = {}\n",
    "\n",
    "for sample in everything:\n",
    "    dict_of_lists.setdefault(frozenset(sample['label']), []).append(sample)\n",
    "\n",
    "for k, vl in sorted(((tuple(k), vl) for k, vl in dict_of_lists.items()), key=lambda i: i[0]):\n",
    "    print(len(vl), k)\n",
    "    for sample in vl:\n",
    "        sample['prelim_label'] = sample['label']\n",
    "        sample['label'] = []\n",
    "    json.dump(vl, open(\n",
    "        f\"data/by_prelim_labels/{'__'.join(['-'.join(words.lower().split()) for words in k])}___{len(vl)}_.json\", 'w',\n",
    "        encoding='utf-8',\n",
    "    ), ensure_ascii=False)"
   ],
   "metadata": {
    "collapsed": false,
    "pycharm": {
     "name": "#%%\n"
    }
   }
  }
 ],
 "metadata": {
  "kernelspec": {
   "display_name": "Python 3",
   "language": "python",
   "name": "python3"
  },
  "language_info": {
   "codemirror_mode": {
    "name": "ipython",
    "version": 2
   },
   "file_extension": ".py",
   "mimetype": "text/x-python",
   "name": "python",
   "nbconvert_exporter": "python",
   "pygments_lexer": "ipython2",
   "version": "2.7.6"
  }
 },
 "nbformat": 4,
 "nbformat_minor": 0
}